{
 "cells": [
  {
   "cell_type": "markdown",
   "id": "b630a83a",
   "metadata": {},
   "source": [
    "# Preprocesamiento de Datos\n",
    "Limpieza, tokenización y vectorización de los textos."
   ]
  },
  {
   "cell_type": "code",
   "execution_count": null,
   "id": "ca77f2f9",
   "metadata": {},
   "outputs": [],
   "source": [
    "# Ejemplo de preprocesamiento\n",
    "import re\n",
    "from sklearn.feature_extraction.text import TfidfVectorizer"
   ]
  }
 ],
 "metadata": {
  "language_info": {
   "name": "python"
  }
 },
 "nbformat": 4,
 "nbformat_minor": 5
}
