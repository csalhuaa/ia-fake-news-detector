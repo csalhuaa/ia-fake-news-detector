{
 "cells": [
  {
   "cell_type": "markdown",
   "id": "d91961b3",
   "metadata": {},
   "source": [
    "# Traducción Automática de Datos\n",
    "Traducción de los datasets de inglés a español usando librerías de traducción automática."
   ]
  },
  {
   "cell_type": "code",
   "execution_count": 1,
   "id": "af356de9",
   "metadata": {},
   "outputs": [
    {
     "name": "stderr",
     "output_type": "stream",
     "text": [
      "100%|████████████████████████████████████████████████████████████████████████████████████████████| 500/500 [05:18<00:00,  1.57it/s]\n",
      "  2%|██▏                                                                                        | 12/500 [01:21<1:17:12,  9.49s/it]"
     ]
    },
    {
     "name": "stdout",
     "output_type": "stream",
     "text": [
      "Error traduciendo: BERLIN (Reuters) - German lawm... -> ('Connection aborted.', RemoteDisconnected('Remote end closed connection without response'))\n"
     ]
    },
    {
     "name": "stderr",
     "output_type": "stream",
     "text": [
      "100%|████████████████████████████████████████████████████████████████████████████████████████████| 500/500 [56:27<00:00,  6.78s/it]"
     ]
    },
    {
     "name": "stdout",
     "output_type": "stream",
     "text": [
      "✅ Traducción y guardado completados. Archivo: /data/translated/worldnews_balanced_es.csv\n"
     ]
    },
    {
     "name": "stderr",
     "output_type": "stream",
     "text": [
      "\n"
     ]
    }
   ],
   "source": [
    "import pandas as pd\n",
    "from deep_translator import GoogleTranslator\n",
    "from tqdm import tqdm\n",
    "\n",
    "tqdm.pandas()\n",
    "\n",
    "# 1. Leer los archivos\n",
    "df_true = pd.read_csv('../data/raw/True.csv')\n",
    "df_fake = pd.read_csv('../data/raw/Fake.csv')\n",
    "\n",
    "# 2. Filtrar por subject\n",
    "df_true_world = df_true[df_true['subject'] == 'worldnews'].sample(n=250, random_state=42)\n",
    "df_fake_news = df_fake[df_fake['subject'] == 'News'].sample(n=250, random_state=42)\n",
    "\n",
    "# 3. Agregar columna label\n",
    "df_true_world['label'] = 'real'\n",
    "df_fake_news['label'] = 'fake'\n",
    "\n",
    "# 4. Unir y resetear índice\n",
    "df = pd.concat([df_true_world, df_fake_news], ignore_index=True)\n",
    "df = df.sample(frac=1, random_state=42).reset_index(drop=True)  # Mezclar\n",
    "\n",
    "# 5. Función de traducción segura\n",
    "def traducir_texto(texto):\n",
    "    try:\n",
    "        if len(str(texto)) > 500:\n",
    "            partes = [texto[i:i+500] for i in range(0, len(texto), 500)]\n",
    "            traducido = []\n",
    "            for parte in partes:\n",
    "                traducido.append(GoogleTranslator(source='auto', target='es').translate(parte))\n",
    "            return \" \".join(traducido)\n",
    "        else:\n",
    "            return GoogleTranslator(source='auto', target='es').translate(texto)\n",
    "    except Exception as e:\n",
    "        print(f\"Error traduciendo: {texto[:30]}... -> {e}\")\n",
    "        return texto  # Devuelve el original si falla\n",
    "\n",
    "# 6. Traducir título y texto\n",
    "df['title_es'] = df['title'].progress_apply(traducir_texto)\n",
    "df['text_es'] = df['text'].progress_apply(traducir_texto)\n",
    "\n",
    "# 7. Guardar el resultado\n",
    "df[['title_es', 'text_es', 'subject', 'date', 'label']].to_csv('../data/translated/worldnews_balanced_es.csv', index=False)\n",
    "\n",
    "print(\"✅ Traducción y guardado completados. Archivo: /data/translated/worldnews_balanced_es.csv\")"
   ]
  },
  {
   "cell_type": "code",
   "execution_count": null,
   "id": "38d9f7a4-785f-4214-8c35-a92278237446",
   "metadata": {},
   "outputs": [],
   "source": []
  }
 ],
 "metadata": {
  "kernelspec": {
   "display_name": "Python 3 (ipykernel)",
   "language": "python",
   "name": "python3"
  },
  "language_info": {
   "codemirror_mode": {
    "name": "ipython",
    "version": 3
   },
   "file_extension": ".py",
   "mimetype": "text/x-python",
   "name": "python",
   "nbconvert_exporter": "python",
   "pygments_lexer": "ipython3",
   "version": "3.12.10"
  }
 },
 "nbformat": 4,
 "nbformat_minor": 5
}
