{
 "cells": [
  {
   "cell_type": "markdown",
   "id": "d91961b3",
   "metadata": {},
   "source": [
    "# Traducción Automática de Datos\n",
    "Traducción de los datasets de inglés a español usando librerías de traducción automática."
   ]
  },
  {
   "cell_type": "code",
   "execution_count": null,
   "id": "af356de9",
   "metadata": {},
   "outputs": [
    {
     "name": "stderr",
     "output_type": "stream",
     "text": [
      "Traduciendo 'title':  23%|████████████████████████▊                                                                                    | 114/500 [01:48<08:37,  1.34s/it]"
     ]
    }
   ],
   "source": [
    "import os\n",
    "import pandas as pd\n",
    "from tqdm import tqdm\n",
    "from deep_translator import GoogleTranslator\n",
    "\n",
    "# Rutas de entrada y salida\n",
    "fake_path = os.path.join(\"..\", \"data\", \"raw\", \"Fake.csv\")\n",
    "true_path = os.path.join(\"..\", \"data\", \"raw\", \"True.csv\")\n",
    "\n",
    "fake_output_path = os.path.join(\"..\", \"data\", \"translated\", \"Fake_es.csv\")\n",
    "true_output_path = os.path.join(\"..\", \"data\", \"translated\", \"True_es.csv\")\n",
    "\n",
    "# Cargar datasets\n",
    "df_fake = pd.read_csv(fake_path)\n",
    "df_true = pd.read_csv(true_path)\n",
    "\n",
    "# Eliminar duplicados\n",
    "df_fake.drop_duplicates(inplace=True)\n",
    "df_true.drop_duplicates(inplace=True)\n",
    "\n",
    "# Tomar una muestra de 500 registros de cada clase\n",
    "df_fake = df_fake.sample(n=500, random_state=42)\n",
    "df_true = df_true.sample(n=500, random_state=42)\n",
    "\n",
    "# Función de traducción\n",
    "def traducir_columna(df, columna):\n",
    "    traducciones = []\n",
    "    for texto in tqdm(df[columna], desc=f\"Traduciendo '{columna}'\"):\n",
    "        try:\n",
    "            texto_traducido = GoogleTranslator(source='auto', target='es').translate(texto)\n",
    "        except Exception:\n",
    "            texto_traducido = texto  # Si hay error, se mantiene el original\n",
    "        traducciones.append(texto_traducido)\n",
    "    return traducciones\n",
    "\n",
    "# Traducir columnas de texto y título\n",
    "df_fake[\"title_es\"] = traducir_columna(df_fake, \"title\")\n",
    "df_fake[\"text_es\"] = traducir_columna(df_fake, \"text\")\n",
    "\n",
    "df_true[\"title_es\"] = traducir_columna(df_true, \"title\")\n",
    "df_true[\"text_es\"] = traducir_columna(df_true, \"text\")\n",
    "\n",
    "# Crear carpeta de salida si no existe\n",
    "os.makedirs(os.path.join(\"..\", \"data\", \"translated\"), exist_ok=True)\n",
    "\n",
    "# Guardar los archivos traducidos\n",
    "df_fake.to_csv(fake_output_path, index=False)\n",
    "df_true.to_csv(true_output_path, index=False)\n",
    "\n",
    "print(\"✅ Traducción de muestra completada (500 noticias por clase).\")\n"
   ]
  },
  {
   "cell_type": "code",
   "execution_count": null,
   "id": "38d9f7a4-785f-4214-8c35-a92278237446",
   "metadata": {},
   "outputs": [],
   "source": []
  }
 ],
 "metadata": {
  "kernelspec": {
   "display_name": "Python 3 (ipykernel)",
   "language": "python",
   "name": "python3"
  },
  "language_info": {
   "codemirror_mode": {
    "name": "ipython",
    "version": 3
   },
   "file_extension": ".py",
   "mimetype": "text/x-python",
   "name": "python",
   "nbconvert_exporter": "python",
   "pygments_lexer": "ipython3",
   "version": "3.12.10"
  }
 },
 "nbformat": 4,
 "nbformat_minor": 5
}
