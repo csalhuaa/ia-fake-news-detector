{
 "cells": [
  {
   "cell_type": "markdown",
   "id": "d91961b3",
   "metadata": {},
   "source": [
    "# Traducción Automática de Datos\n",
    "Traducción de los datasets de inglés a español usando librerías de traducción automática."
   ]
  },
  {
   "cell_type": "code",
   "execution_count": 3,
   "id": "af356de9",
   "metadata": {},
   "outputs": [
    {
     "name": "stderr",
     "output_type": "stream",
     "text": [
      "Traduciendo 'title': 100%|█████████████████████████████████████████████████████████████████████████████████████████████████████████████| 500/500 [02:05<00:00,  3.98it/s]\n",
      "Traduciendo 'text': 100%|██████████████████████████████████████████████████████████████████████████████████████████████████████████████| 500/500 [02:28<00:00,  3.37it/s]\n"
     ]
    },
    {
     "name": "stdout",
     "output_type": "stream",
     "text": [
      "✅ Fake traducido y guardado en ..\\data\\translated\\Fake_es.csv\n"
     ]
    },
    {
     "name": "stderr",
     "output_type": "stream",
     "text": [
      "Traduciendo 'title': 100%|█████████████████████████████████████████████████████████████████████████████████████████████████████████████| 500/500 [02:05<00:00,  3.99it/s]\n",
      "Traduciendo 'text': 100%|██████████████████████████████████████████████████████████████████████████████████████████████████████████████| 500/500 [02:10<00:00,  3.84it/s]"
     ]
    },
    {
     "name": "stdout",
     "output_type": "stream",
     "text": [
      "✅ True traducido y guardado en ..\\data\\translated\\True_es.csv\n"
     ]
    },
    {
     "name": "stderr",
     "output_type": "stream",
     "text": [
      "\n"
     ]
    }
   ],
   "source": [
    "import os\n",
    "import pandas as pd\n",
    "from tqdm import tqdm\n",
    "from deep_translator import GoogleTranslator\n",
    "import logging\n",
    "\n",
    "# — Configuración de logging —\n",
    "logging.basicConfig(\n",
    "    filename='translation.log',\n",
    "    level=logging.INFO,\n",
    "    format='%(asctime)s %(levelname)s %(message)s'\n",
    ")\n",
    "\n",
    "# — Rutas de entrada y salida —\n",
    "RAW_DIR       = os.path.join(\"..\", \"data\", \"raw\")\n",
    "TRANSL_DIR    = os.path.join(\"..\", \"data\", \"translated\")\n",
    "os.makedirs(TRANSL_DIR, exist_ok=True)\n",
    "\n",
    "FAKE_IN       = os.path.join(RAW_DIR, \"Fake.csv\")\n",
    "TRUE_IN       = os.path.join(RAW_DIR, \"True.csv\")\n",
    "FAKE_OUT      = os.path.join(TRANSL_DIR, \"Fake_es.csv\")\n",
    "TRUE_OUT      = os.path.join(TRANSL_DIR, \"True_es.csv\")\n",
    "\n",
    "# — Carga y muestreo —\n",
    "df_fake = pd.read_csv(FAKE_IN).drop_duplicates().sample(n=500, random_state=42)\n",
    "df_true = pd.read_csv(TRUE_IN).drop_duplicates().sample(n=500, random_state=42)\n",
    "\n",
    "# — Rellenar nulos y cast a str —\n",
    "for df in (df_fake, df_true):\n",
    "    df['title'] = df['title'].fillna('').astype(str)\n",
    "    df['text']  = df['text'].fillna('').astype(str)\n",
    "\n",
    "# — Función de traducción con logging y manejo de fallos —\n",
    "def traducir_columna(df, columna, target_col):\n",
    "    traducidos = []\n",
    "    for idx, texto in enumerate(tqdm(df[columna], desc=f\"Traduciendo '{columna}'\")):\n",
    "        try:\n",
    "            traducido = GoogleTranslator(source='auto', target='es').translate(texto)\n",
    "        except Exception as e:\n",
    "            logging.warning(f\"Fila {idx} columna '{columna}' no traducida: {e}\")\n",
    "            traducido = texto\n",
    "        traducidos.append(traducido)\n",
    "        # checkpoint cada 100 iteraciones\n",
    "        if (idx + 1) % 100 == 0:\n",
    "            df[target_col] = traducidos + [''] * (len(df) - len(traducidos))\n",
    "            df.to_csv(FAKE_OUT if df is df_fake else TRUE_OUT, index=False)\n",
    "    return traducidos\n",
    "\n",
    "# — Traducir y guardar —\n",
    "# Fake\n",
    "df_fake['title_es'] = traducir_columna(df_fake, 'title', 'title_es')\n",
    "# checkpoint intermedio\n",
    "df_fake.to_csv(FAKE_OUT, index=False)\n",
    "\n",
    "df_fake['text_es']  = traducir_columna(df_fake, 'text', 'text_es')\n",
    "df_fake.to_csv(FAKE_OUT, index=False)\n",
    "print(\"✅ Fake traducido y guardado en\", FAKE_OUT)\n",
    "\n",
    "# True\n",
    "df_true['title_es'] = traducir_columna(df_true, 'title', 'title_es')\n",
    "df_true.to_csv(TRUE_OUT, index=False)\n",
    "\n",
    "df_true['text_es']  = traducir_columna(df_true, 'text', 'text_es')\n",
    "df_true.to_csv(TRUE_OUT, index=False)\n",
    "print(\"✅ True traducido y guardado en\", TRUE_OUT)\n"
   ]
  },
  {
   "cell_type": "code",
   "execution_count": null,
   "id": "38d9f7a4-785f-4214-8c35-a92278237446",
   "metadata": {},
   "outputs": [],
   "source": []
  }
 ],
 "metadata": {
  "kernelspec": {
   "display_name": "Python 3 (ipykernel)",
   "language": "python",
   "name": "python3"
  },
  "language_info": {
   "codemirror_mode": {
    "name": "ipython",
    "version": 3
   },
   "file_extension": ".py",
   "mimetype": "text/x-python",
   "name": "python",
   "nbconvert_exporter": "python",
   "pygments_lexer": "ipython3",
   "version": "3.12.10"
  }
 },
 "nbformat": 4,
 "nbformat_minor": 5
}
