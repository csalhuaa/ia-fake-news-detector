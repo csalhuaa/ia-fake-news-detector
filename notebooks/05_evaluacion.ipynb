{
 "cells": [
  {
   "cell_type": "markdown",
   "id": "8495d9b2",
   "metadata": {},
   "source": [
    "# Evaluación de Modelos\n",
    "Comparación de métricas, matriz de confusión y curva ROC."
   ]
  },
  {
   "cell_type": "code",
   "execution_count": null,
   "id": "ed184e19",
   "metadata": {},
   "outputs": [],
   "source": [
    "# Evaluación de modelos\n",
    "from sklearn.metrics import classification_report, confusion_matrix, roc_curve, auc"
   ]
  }
 ],
 "metadata": {
  "language_info": {
   "name": "python"
  }
 },
 "nbformat": 4,
 "nbformat_minor": 5
}
