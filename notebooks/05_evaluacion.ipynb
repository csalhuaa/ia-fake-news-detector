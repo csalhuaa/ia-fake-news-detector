{
 "cells": [
  {
   "cell_type": "markdown",
   "id": "8495d9b2",
   "metadata": {},
   "source": [
    "# Evaluación de Modelos\n",
    "Comparación de métricas, matriz de confusión y curva ROC."
   ]
  },
  {
   "cell_type": "code",
   "execution_count": 1,
   "id": "ed184e19",
   "metadata": {},
   "outputs": [
    {
     "name": "stdout",
     "output_type": "stream",
     "text": [
      "✅ Métricas guardadas en ..\\models\\metrics\n",
      "\n",
      "--- Reporte Naive Bayes ---\n",
      "              precision    recall  f1-score   support\n",
      "\n",
      "        Fake       0.96      0.72      0.82      4776\n",
      "        True       0.83      0.98      0.90      6671\n",
      "\n",
      "    accuracy                           0.87     11447\n",
      "   macro avg       0.89      0.85      0.86     11447\n",
      "weighted avg       0.88      0.87      0.87     11447\n",
      "\n",
      "\n",
      "--- Reporte SVM ---\n",
      "              precision    recall  f1-score   support\n",
      "\n",
      "        Fake       0.93      0.87      0.90      4776\n",
      "        True       0.91      0.95      0.93      6671\n",
      "\n",
      "    accuracy                           0.92     11447\n",
      "   macro avg       0.92      0.91      0.91     11447\n",
      "weighted avg       0.92      0.92      0.92     11447\n",
      "\n"
     ]
    },
    {
     "data": {
      "image/png": "[encoded data removed]",
      "text/plain": [
       "<Figure size 640x480 with 1 Axes>"
      ]
     },
     "metadata": {},
     "output_type": "display_data"
    }
   ],
   "source": [
    "# 05_evaluacion.ipynb (corregido)\n",
    "\n",
    "import os\n",
    "import joblib\n",
    "import json\n",
    "import numpy as np\n",
    "import matplotlib.pyplot as plt\n",
    "from sklearn.metrics import classification_report, confusion_matrix, accuracy_score, precision_score, recall_score, f1_score\n",
    "\n",
    "# Rutas\n",
    "split_dir   = os.path.join(\"..\", \"data\", \"split\")\n",
    "model_dir   = os.path.join(\"..\", \"models\")\n",
    "metrics_dir = os.path.join(model_dir, \"metrics\")\n",
    "os.makedirs(metrics_dir, exist_ok=True)\n",
    "\n",
    "# Cargar datos vectorizados de prueba\n",
    "X_train, y_train = joblib.load(os.path.join(split_dir, \"train.pkl\"))\n",
    "X_test,  y_test  = joblib.load(os.path.join(split_dir, \"test.pkl\"))\n",
    "\n",
    "# Cargar modelos\n",
    "nb  = joblib.load(os.path.join(model_dir, \"nb_model.pkl\"))\n",
    "svm = joblib.load(os.path.join(model_dir, \"svm_model.pkl\"))\n",
    "\n",
    "# Función para calcular métricas\n",
    "def calcular_metricas(modelo, X, y_true):\n",
    "    y_pred = modelo.predict(X)\n",
    "    return {\n",
    "        \"accuracy\":  accuracy_score(y_true, y_pred),\n",
    "        \"precision\": precision_score(y_true, y_pred, average=\"macro\"),\n",
    "        \"recall\":    recall_score(y_true, y_pred, average=\"macro\"),\n",
    "        \"f1_score\":  f1_score(y_true, y_pred, average=\"macro\"),\n",
    "        \"confusion_matrix\": confusion_matrix(y_true, y_pred).tolist()\n",
    "    }\n",
    "\n",
    "# Calcular métricas para ambos\n",
    "metrics_nb  = calcular_metricas(nb,  X_test, y_test)\n",
    "metrics_svm = calcular_metricas(svm, X_test, y_test)\n",
    "\n",
    "# Guardar métricas en JSON\n",
    "with open(os.path.join(metrics_dir, \"nb_metrics.json\"), \"w\") as f:\n",
    "    json.dump(metrics_nb, f, indent=2)\n",
    "with open(os.path.join(metrics_dir, \"svm_metrics.json\"), \"w\") as f:\n",
    "    json.dump(metrics_svm, f, indent=2)\n",
    "\n",
    "print(\"✅ Métricas guardadas en\", metrics_dir)\n",
    "\n",
    "# Mostrar reportes de clasificación\n",
    "print(\"\\n--- Reporte Naive Bayes ---\")\n",
    "print(classification_report(y_test, nb.predict(X_test), target_names=[\"Fake\",\"True\"]))\n",
    "\n",
    "print(\"\\n--- Reporte SVM ---\")\n",
    "print(classification_report(y_test, svm.predict(X_test), target_names=[\"Fake\",\"True\"]))\n",
    "\n",
    "# Gráfica comparativa de métricas\n",
    "# Mapa entre etiquetas legibles y claves en JSON\n",
    "label_key_map = {\n",
    "    \"Accuracy\":  \"accuracy\",\n",
    "    \"Precision\": \"precision\",\n",
    "    \"Recall\":    \"recall\",\n",
    "    \"F1-score\":  \"f1_score\"\n",
    "}\n",
    "\n",
    "labels = list(label_key_map.keys())\n",
    "nb_scores  = [metrics_nb[label_key_map[label]]  for label in labels]\n",
    "svm_scores = [metrics_svm[label_key_map[label]] for label in labels]\n",
    "\n",
    "x = np.arange(len(labels))\n",
    "width = 0.35\n",
    "\n",
    "fig, ax = plt.subplots()\n",
    "ax.bar(x - width/2, nb_scores, width, label=\"Naive Bayes\")\n",
    "ax.bar(x + width/2, svm_scores, width, label=\"SVM\")\n",
    "ax.set_xticks(x)\n",
    "ax.set_xticklabels(labels)\n",
    "ax.set_ylim(0,1)\n",
    "ax.set_ylabel(\"Score\")\n",
    "ax.set_title(\"Comparación de métricas entre modelos\")\n",
    "ax.legend()\n",
    "\n",
    "for idx, label in enumerate(labels):\n",
    "    ax.text(idx - width/2, nb_scores[idx] + 0.02, f\"{nb_scores[idx]:.2f}\", ha=\"center\")\n",
    "    ax.text(idx + width/2, svm_scores[idx] + 0.02, f\"{svm_scores[idx]:.2f}\", ha=\"center\")\n",
    "\n",
    "plt.tight_layout()\n",
    "plt.show()\n",
    "\n"
   ]
  },
  {
   "cell_type": "code",
   "execution_count": null,
   "id": "98040f7c-f018-48d4-94c5-1233aebbd6e7",
   "metadata": {},
   "outputs": [],
   "source": []
  }
 ],
 "metadata": {
  "kernelspec": {
   "display_name": "Python 3 (ipykernel)",
   "language": "python",
   "name": "python3"
  },
  "language_info": {
   "codemirror_mode": {
    "name": "ipython",
    "version": 3
   },
   "file_extension": ".py",
   "mimetype": "text/x-python",
   "name": "python",
   "nbconvert_exporter": "python",
   "pygments_lexer": "ipython3",
   "version": "3.12.10"
  }
 },
 "nbformat": 4,
 "nbformat_minor": 5
}
