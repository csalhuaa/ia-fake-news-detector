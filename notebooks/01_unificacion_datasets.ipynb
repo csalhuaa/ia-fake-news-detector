{
 "cells": [
  {
   "cell_type": "code",
   "execution_count": 6,
   "id": "27f2c2c7",
   "metadata": {
    "vscode": {
     "languageId": "plaintext"
    }
   },
   "outputs": [
    {
     "name": "stdout",
     "output_type": "stream",
     "text": [
      "✅ Dataset unificado creado.\n",
      "Total de registros combinados: 1072\n",
      "Distribución de etiquetas:\n",
      "label\n",
      "fake    536\n",
      "real    536\n",
      "Name: count, dtype: int64\n"
     ]
    }
   ],
   "source": [
    "import pandas as pd\n",
    "import re\n",
    "\n",
    "# --- 1. Función para limpiar texto ---\n",
    "def limpiar_texto(texto):\n",
    "    if pd.isna(texto):\n",
    "        return \"\"\n",
    "    texto = str(texto).replace('\\n', ' ').replace('\\r', ' ')\n",
    "    texto = re.sub(r'\\s+', ' ', texto)\n",
    "    return texto.strip()\n",
    "\n",
    "# --- 2. Cargar dataset traducido ---\n",
    "df_es = pd.read_csv('../data/translated/worldnews_balanced_es.csv')\n",
    "df_es = df_es.rename(columns={'title_es': 'title', 'text_es': 'text'})\n",
    "df_es = df_es[['title', 'text', 'label']]\n",
    "\n",
    "# --- 3. Cargar test.csv ---\n",
    "df_test_raw = pd.read_csv(\n",
    "    '../data/raw/test.csv',\n",
    "    quoting=1,\n",
    "    quotechar='\"',\n",
    "    encoding='utf-8',\n",
    "    engine='python'\n",
    ")\n",
    "\n",
    "# --- 4. Estandarizar columnas ---\n",
    "df_test = df_test_raw.rename(columns={\n",
    "    'HEADLINE': 'title',\n",
    "    'TEXT': 'text',\n",
    "    'CATEGORY': 'label'\n",
    "})\n",
    "\n",
    "# Mapear etiquetas 'TRUE'/'FALSE' → 'real'/'fake'\n",
    "df_test['label'] = df_test['label'].astype(str).str.strip().str.upper()\n",
    "df_test['label'] = df_test['label'].map({'TRUE': 'real', 'FALSE': 'fake'})\n",
    "\n",
    "# Guardar filas inválidas si las hay\n",
    "filas_invalidas = df_test[df_test['label'].isna()]\n",
    "if not filas_invalidas.empty:\n",
    "    print(f\"❌ Filas sin etiqueta válida: {len(filas_invalidas)}\")\n",
    "    filas_invalidas.to_csv('../data/processed/filas_con_label_invalido.csv', index=False)\n",
    "\n",
    "df_test = df_test[['title', 'text', 'label']]\n",
    "\n",
    "# --- 5. Unificar datasets ---\n",
    "df_total = pd.concat([df_es, df_test], ignore_index=True)\n",
    "\n",
    "# --- 6. Limpiar y unificar en una sola columna ---\n",
    "df_total['title'] = df_total['title'].apply(limpiar_texto)\n",
    "df_total['text'] = df_total['text'].apply(limpiar_texto)\n",
    "\n",
    "# ✅ Crear columna unificada \"contenido\"\n",
    "df_total['contenido'] = (df_total['title'] + '. ' + df_total['text']).str.strip()\n",
    "\n",
    "# Si por alguna razón title está vacío, solo deja el texto\n",
    "df_total['contenido'] = df_total.apply(\n",
    "    lambda row: row['text'] if row['title'] == \"\" else row['contenido'],\n",
    "    axis=1\n",
    ")\n",
    "\n",
    "# --- 7. Eliminar columnas innecesarias ---\n",
    "df_total = df_total[['contenido', 'label']]\n",
    "\n",
    "# --- 8. Guardar resultado ---\n",
    "df_total.to_csv('../data/processed/dataset_unificado.csv', index=False)\n",
    "\n",
    "# --- 9. Reporte ---\n",
    "print(\"✅ Dataset unificado creado.\")\n",
    "print(f\"Total de registros combinados: {len(df_total)}\")\n",
    "print(\"Distribución de etiquetas:\")\n",
    "print(df_total['label'].value_counts())\n"
   ]
  },
  {
   "cell_type": "code",
   "execution_count": null,
   "id": "17b95b33-0b91-43d3-9251-19cf3a58f1a2",
   "metadata": {},
   "outputs": [],
   "source": []
  }
 ],
 "metadata": {
  "kernelspec": {
   "display_name": "Python 3 (ipykernel)",
   "language": "python",
   "name": "python3"
  },
  "language_info": {
   "codemirror_mode": {
    "name": "ipython",
    "version": 3
   },
   "file_extension": ".py",
   "mimetype": "text/x-python",
   "name": "python",
   "nbconvert_exporter": "python",
   "pygments_lexer": "ipython3",
   "version": "3.12.10"
  }
 },
 "nbformat": 4,
 "nbformat_minor": 5
}
