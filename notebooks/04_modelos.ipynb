{
 "cells": [
  {
   "cell_type": "markdown",
   "id": "03d9c121",
   "metadata": {},
   "source": [
    "# Entrenamiento de Modelos\n",
    "Entrenamiento de modelos Naive Bayes y SVM para clasificación de noticias."
   ]
  },
  {
   "cell_type": "code",
   "execution_count": 1,
   "id": "e24e8e02",
   "metadata": {},
   "outputs": [
    {
     "name": "stdout",
     "output_type": "stream",
     "text": [
      "Tamaño train: (45784, 5000) (45784,)\n",
      "Tamaño test:  (11447, 5000) (11447,)\n",
      "\n",
      "📊 Evaluación — Naive Bayes\n",
      "              precision    recall  f1-score   support\n",
      "\n",
      "        Fake       0.96      0.72      0.82      4776\n",
      "        True       0.83      0.98      0.90      6671\n",
      "\n",
      "    accuracy                           0.87     11447\n",
      "   macro avg       0.89      0.85      0.86     11447\n",
      "weighted avg       0.88      0.87      0.87     11447\n",
      "\n",
      "Matriz de confusión:\n",
      " [[3434 1342]\n",
      " [ 151 6520]]\n",
      "✅ Naive Bayes guardado en ..\\models\\nb_model.pkl\n",
      "\n",
      "📊 Evaluación — SVM (LinearSVC)\n",
      "              precision    recall  f1-score   support\n",
      "\n",
      "        Fake       0.93      0.87      0.90      4776\n",
      "        True       0.91      0.95      0.93      6671\n",
      "\n",
      "    accuracy                           0.92     11447\n",
      "   macro avg       0.92      0.91      0.91     11447\n",
      "weighted avg       0.92      0.92      0.92     11447\n",
      "\n",
      "Matriz de confusión:\n",
      " [[4136  640]\n",
      " [ 312 6359]]\n",
      "✅ SVM guardado en ..\\models\\svm_model.pkl\n",
      "\n",
      "✅ Entrenamiento y guardado de ambos modelos completado.\n"
     ]
    }
   ],
   "source": [
    "# 04_modelos.ipynb\n",
    "\n",
    "import os\n",
    "import joblib\n",
    "from sklearn.naive_bayes import MultinomialNB\n",
    "from sklearn.svm import LinearSVC\n",
    "from sklearn.metrics import classification_report, confusion_matrix\n",
    "\n",
    "# — Rutas —\n",
    "split_dir  = os.path.join(\"..\", \"data\", \"split\")\n",
    "model_dir  = os.path.join(\"..\", \"models\")\n",
    "os.makedirs(model_dir, exist_ok=True)\n",
    "\n",
    "train_path = os.path.join(split_dir, \"train.pkl\")\n",
    "test_path  = os.path.join(split_dir, \"test.pkl\")\n",
    "\n",
    "# — 1. Cargar datos vectorizados —\n",
    "(X_train, y_train) = joblib.load(train_path)\n",
    "(X_test,  y_test)  = joblib.load(test_path)\n",
    "\n",
    "print(\"Tamaño train:\", X_train.shape, y_train.shape)\n",
    "print(\"Tamaño test: \", X_test.shape, y_test.shape)\n",
    "\n",
    "# — 2. Entrenar y evaluar Naive Bayes —\n",
    "nb = MultinomialNB()\n",
    "nb.fit(X_train, y_train)\n",
    "\n",
    "y_pred_nb = nb.predict(X_test)\n",
    "print(\"\\n📊 Evaluación — Naive Bayes\")\n",
    "print(classification_report(y_test, y_pred_nb, target_names=[\"Fake\", \"True\"]))\n",
    "print(\"Matriz de confusión:\\n\", confusion_matrix(y_test, y_pred_nb))\n",
    "\n",
    "# Guardar modelo NB\n",
    "nb_path = os.path.join(model_dir, \"nb_model.pkl\")\n",
    "joblib.dump(nb, nb_path)\n",
    "print(f\"✅ Naive Bayes guardado en {nb_path}\")\n",
    "\n",
    "# — 3. Entrenar y evaluar SVM —\n",
    "svm = LinearSVC()\n",
    "svm.fit(X_train, y_train)\n",
    "\n",
    "y_pred_svm = svm.predict(X_test)\n",
    "print(\"\\n📊 Evaluación — SVM (LinearSVC)\")\n",
    "print(classification_report(y_test, y_pred_svm, target_names=[\"Fake\", \"True\"]))\n",
    "print(\"Matriz de confusión:\\n\", confusion_matrix(y_test, y_pred_svm))\n",
    "\n",
    "# Guardar modelo SVM\n",
    "svm_path = os.path.join(model_dir, \"svm_model.pkl\")\n",
    "joblib.dump(svm, svm_path)\n",
    "print(f\"✅ SVM guardado en {svm_path}\")\n",
    "\n",
    "print(\"\\n✅ Entrenamiento y guardado de ambos modelos completado.\")\n"
   ]
  },
  {
   "cell_type": "code",
   "execution_count": null,
   "id": "447e8f19-ece1-418a-b305-1142a95a742f",
   "metadata": {},
   "outputs": [],
   "source": []
  },
  {
   "cell_type": "code",
   "execution_count": null,
   "id": "fee3adf1-37a9-47d3-b97a-fe7c512b2fe4",
   "metadata": {},
   "outputs": [],
   "source": []
  },
  {
   "cell_type": "code",
   "execution_count": null,
   "id": "b6764fc2-ceab-49db-9c4d-2b2a4274bf12",
   "metadata": {},
   "outputs": [],
   "source": []
  }
 ],
 "metadata": {
  "kernelspec": {
   "display_name": "Python 3 (ipykernel)",
   "language": "python",
   "name": "python3"
  },
  "language_info": {
   "codemirror_mode": {
    "name": "ipython",
    "version": 3
   },
   "file_extension": ".py",
   "mimetype": "text/x-python",
   "name": "python",
   "nbconvert_exporter": "python",
   "pygments_lexer": "ipython3",
   "version": "3.12.10"
  }
 },
 "nbformat": 4,
 "nbformat_minor": 5
}
