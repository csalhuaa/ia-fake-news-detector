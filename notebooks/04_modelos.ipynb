{
 "cells": [
  {
   "cell_type": "markdown",
   "id": "03d9c121",
   "metadata": {},
   "source": [
    "# Entrenamiento de Modelos\n",
    "Entrenamiento de modelos Naive Bayes y SVM para clasificación de noticias."
   ]
  },
  {
   "cell_type": "code",
   "execution_count": 2,
   "id": "e24e8e02",
   "metadata": {},
   "outputs": [
    {
     "name": "stdout",
     "output_type": "stream",
     "text": [
      "🔧 Entrenando modelo: SVM\n",
      "🔧 Entrenando modelo: Naive Bayes\n",
      "🔧 Entrenando modelo: Logistic Regression\n",
      "🔧 Entrenando modelo: Decision Tree\n",
      "🔧 Entrenando modelo: Random Forest\n",
      "🔧 Entrenando modelo: MLP\n",
      "✅ Todos los modelos entrenados y guardados.\n"
     ]
    }
   ],
   "source": [
    "import joblib\n",
    "from sklearn.svm import SVC\n",
    "from sklearn.naive_bayes import MultinomialNB\n",
    "from sklearn.linear_model import LogisticRegression\n",
    "from sklearn.tree import DecisionTreeClassifier\n",
    "from sklearn.ensemble import RandomForestClassifier\n",
    "from sklearn.neural_network import MLPClassifier\n",
    "\n",
    "# 1. Cargar datos\n",
    "X_train, y_train = joblib.load('../data/split/train.pkl')\n",
    "\n",
    "# 2. Definir y entrenar modelos\n",
    "modelos = {\n",
    "    'SVM': SVC(probability=True, random_state=42),\n",
    "    'Naive Bayes': MultinomialNB(),\n",
    "    'Logistic Regression': LogisticRegression(max_iter=1000, random_state=42),\n",
    "    'Decision Tree': DecisionTreeClassifier(random_state=42),\n",
    "    'Random Forest': RandomForestClassifier(n_estimators=100, random_state=42),\n",
    "    'MLP': MLPClassifier(hidden_layer_sizes=(100,), max_iter=300, random_state=42)\n",
    "}\n",
    "\n",
    "for nombre, modelo in modelos.items():\n",
    "    print(f\"🔧 Entrenando modelo: {nombre}\")\n",
    "    modelo.fit(X_train, y_train)\n",
    "    joblib.dump(modelo, f'../models/{nombre.replace(\" \", \"_\").lower()}.pkl')\n",
    "\n",
    "print(\"✅ Todos los modelos entrenados y guardados.\")"
   ]
  },
  {
   "cell_type": "code",
   "execution_count": null,
   "id": "b6764fc2-ceab-49db-9c4d-2b2a4274bf12",
   "metadata": {},
   "outputs": [],
   "source": []
  }
 ],
 "metadata": {
  "kernelspec": {
   "display_name": "Python 3 (ipykernel)",
   "language": "python",
   "name": "python3"
  },
  "language_info": {
   "codemirror_mode": {
    "name": "ipython",
    "version": 3
   },
   "file_extension": ".py",
   "mimetype": "text/x-python",
   "name": "python",
   "nbconvert_exporter": "python",
   "pygments_lexer": "ipython3",
   "version": "3.12.10"
  }
 },
 "nbformat": 4,
 "nbformat_minor": 5
}
