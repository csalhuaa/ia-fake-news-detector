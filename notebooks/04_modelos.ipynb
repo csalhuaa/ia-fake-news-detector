{
 "cells": [
  {
   "cell_type": "markdown",
   "id": "03d9c121",
   "metadata": {},
   "source": [
    "# Entrenamiento de Modelos\n",
    "Entrenamiento de modelos Naive Bayes y SVM para clasificación de noticias."
   ]
  },
  {
   "cell_type": "code",
   "execution_count": null,
   "id": "e24e8e02",
   "metadata": {},
   "outputs": [],
   "source": [
    "# Entrenamiento de modelos\n",
    "from sklearn.naive_bayes import MultinomialNB\n",
    "from sklearn.svm import SVC"
   ]
  }
 ],
 "metadata": {
  "language_info": {
   "name": "python"
  }
 },
 "nbformat": 4,
 "nbformat_minor": 5
}
